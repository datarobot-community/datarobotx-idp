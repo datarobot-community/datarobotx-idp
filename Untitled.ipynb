{
 "cells": [
  {
   "cell_type": "code",
   "execution_count": 1,
   "id": "d0726429-4ce1-412d-8a17-dd773298d663",
   "metadata": {},
   "outputs": [],
   "source": [
    "from datarobotx.idp.custom_model_llm_validation import get_or_create_custom_model_llm_validation\n",
    "from datarobotx.idp.custom_models import get_or_create_custom_model\n",
    "from datarobotx.idp.custom_model_versions import get_or_create_custom_model_version\n",
    "from datarobotx.idp.registered_model_versions import get_or_create_registered_custom_model_version\n",
    "from datarobotx.idp.deployments import get_or_create_deployment_from_registered_model_version\n",
    "from datarobotx.idp.use_cases import get_or_create_use_case\n",
    "from datarobotx.idp.playgrounds import get_or_create_playground\n",
    "from datarobotx.idp.llm_blueprints import get_or_create_llm_blueprint\n",
    "from datarobot.models.genai.llm_blueprint import LLMDefinition, LLMBlueprint\n",
    "from datarobot.models.genai.chat import Chat\n",
    "from datarobot.models.genai.chat_prompt import ChatPrompt\n",
    "import tempfile\n",
    "import pathlib\n",
    "import time"
   ]
  },
  {
   "cell_type": "code",
   "execution_count": 2,
   "id": "db8c3d40-0e11-4f01-bac1-ac8e1f46cc0f",
   "metadata": {},
   "outputs": [],
   "source": [
    "DATAROBOT_ENDPOINT = \"https://app.datarobot.com/api/v2\"\n",
    "DATAROBOT_API_TOKEN = \"NWQ1NDA3YTVmNTU1Y2QxZDQxNmQ1YTZjOklqemlsaHJucTZtdU1NVThMLWpCVldJeEhpYUhOcFVo\""
   ]
  },
  {
   "cell_type": "code",
   "execution_count": 3,
   "id": "4814a3ce-0060-47f3-84ac-020ec54c77be",
   "metadata": {},
   "outputs": [],
   "source": [
    "d = tempfile.TemporaryDirectory()\n",
    "model_dir = pathlib.Path(d.name, \"custom_model\")\n",
    "model_dir.mkdir(exist_ok=True, parents=True)\n",
    "custom_py = pathlib.Path(model_dir,  \"custom.py\")\n",
    "text = \"\"\"\n",
    "import pandas as pd\n",
    "def load_model(code_dir):\n",
    "    return True\n",
    "def score(data, model, **kwargs):\n",
    "    try:\n",
    "        inp = {\"question\": data.iloc[0][\"question\"]}\n",
    "        outputs = {\"answer\": f\"You asked me \\\\\"{inp['question']}\\\\\"\"}\n",
    "        rv = outputs[\"answer\"]\n",
    "    except Exception as e:\n",
    "        rv = f\"{e.__class__.__name__}: {str(e)}\"\n",
    "    return pd.DataFrame({\"answer\": [rv]})\n",
    "\"\"\"\n",
    "custom_py.write_text(data=text)\n",
    "\n",
    "custom_model = get_or_create_custom_model(\n",
    "    endpoint=DATAROBOT_ENDPOINT, \n",
    "    token=DATAROBOT_API_TOKEN, name=\"pytest_cm_new\", target_type=\"TextGeneration\",target_name=\"answer\")\n",
    "custom_model_version = get_or_create_custom_model_version(DATAROBOT_ENDPOINT, DATAROBOT_API_TOKEN, custom_model, base_environment_id=\"65f9b27eab986d30d4c64268\", folder_path=model_dir)\n",
    "registered_model_version = get_or_create_registered_custom_model_version(DATAROBOT_ENDPOINT, DATAROBOT_API_TOKEN, custom_model_version, \"pytest_rmv\")\n",
    "deployment = get_or_create_deployment_from_registered_model_version(DATAROBOT_ENDPOINT, DATAROBOT_API_TOKEN, registered_model_version, label=\"pytest_d\", default_prediction_server_id=\"5f06612df1740600260aca72\")\n",
    "validation_id = get_or_create_custom_model_llm_validation(DATAROBOT_ENDPOINT, DATAROBOT_API_TOKEN, prompt_column_name=\"question\", target_column_name=\"answer\", deployment_id=deployment)\n",
    "use_case = get_or_create_use_case(DATAROBOT_ENDPOINT, DATAROBOT_API_TOKEN, name=\"pytest_uc\")\n",
    "playground = get_or_create_playground(DATAROBOT_ENDPOINT, DATAROBOT_API_TOKEN, name=\"pytest_pg\", use_case=use_case)\n",
    "\n",
    "custom_llm = [\n",
    "    llm_def for llm_def in LLMDefinition.list(as_dict=False) if llm_def.id == \"custom-model\"\n",
    "][0]\n",
    "\n",
    "llm_settings = {\n",
    "    \"system_prompt\": \"You are a pytest asset\", \n",
    "    \"validation_id\": validation_id\n",
    "}\n",
    "\n",
    "llm_blueprint = get_or_create_llm_blueprint(\n",
    "    endpoint=DATAROBOT_ENDPOINT, \n",
    "    token=DATAROBOT_API_TOKEN, \n",
    "    playground=playground, \n",
    "    name=\"pytest_llm\", \n",
    "    llm=custom_llm, \n",
    "    llm_settings=llm_settings\n",
    ")"
   ]
  },
  {
   "cell_type": "code",
   "execution_count": 4,
   "id": "a84d0936-9850-4b84-b093-ca8b32742f68",
   "metadata": {},
   "outputs": [
    {
     "data": {
      "text/plain": [
       "'You asked me \"You are a pytest asset\\n\\nPrompt: Who are you\\n\"'"
      ]
     },
     "execution_count": 4,
     "metadata": {},
     "output_type": "execute_result"
    }
   ],
   "source": [
    "bp = LLMBlueprint.get(llm_blueprint)\n",
    "chat = Chat.create(\"pytest_chat\", bp)\n",
    "chat_prompt = ChatPrompt.create(text=\"Who are you\", llm_blueprint=bp, chat=chat)\n",
    "while chat_prompt.execution_status != 'COMPLETED':\n",
    "    chat_prompt = chat_prompt.get(chat_prompt=chat_prompt)\n",
    "    time.sleep(5)\n",
    "chat_prompt.result_text"
   ]
  },
  {
   "cell_type": "code",
   "execution_count": 6,
   "id": "6cba4d96-bc6f-4295-ae58-f08d986a78dd",
   "metadata": {},
   "outputs": [],
   "source": [
    "import datarobot as dr\n",
    "client = dr.Client(token=DATAROBOT_API_TOKEN, endpoint=DATAROBOT_ENDPOINT)"
   ]
  },
  {
   "cell_type": "code",
   "execution_count": 12,
   "id": "2229fd60-b3dd-4656-b429-98e18a94adf9",
   "metadata": {},
   "outputs": [],
   "source": [
    "from datarobot.models.genai.custom_model_llm_validation import CustomModelLLMValidation"
   ]
  },
  {
   "cell_type": "code",
   "execution_count": 38,
   "id": "b96eb7a6-8e59-49f6-ace4-106234a86a71",
   "metadata": {},
   "outputs": [],
   "source": [
    "llm_validation = CustomModelLLMValidation.list(target_column_name=\"answer\")"
   ]
  },
  {
   "cell_type": "code",
   "execution_count": 39,
   "id": "6931324a-8a78-49db-b1ca-5a5b8bcbdfbc",
   "metadata": {},
   "outputs": [
    {
     "data": {
      "text/plain": [
       "[]"
      ]
     },
     "execution_count": 39,
     "metadata": {},
     "output_type": "execute_result"
    }
   ],
   "source": [
    "llm_validation"
   ]
  },
  {
   "cell_type": "code",
   "execution_count": 25,
   "id": "9e3ddcaf-c0bb-48c2-9420-651f12336cd8",
   "metadata": {},
   "outputs": [],
   "source": [
    "llm_validation.delete()"
   ]
  },
  {
   "cell_type": "code",
   "execution_count": 37,
   "id": "b7bea39f-e98c-4425-b203-ebddbd6e775a",
   "metadata": {},
   "outputs": [
    {
     "data": {
      "text/plain": [
       "<Response [204]>"
      ]
     },
     "execution_count": 37,
     "metadata": {},
     "output_type": "execute_result"
    }
   ],
   "source": [
    "client.delete(\"genai/customModelLLMValidations/662a5b5e2ade64c4fc4c143d/\")"
   ]
  },
  {
   "cell_type": "code",
   "execution_count": null,
   "id": "aa5083fb-8e34-4a77-a54e-0decfe6f29a3",
   "metadata": {},
   "outputs": [],
   "source": []
  },
  {
   "cell_type": "code",
   "execution_count": null,
   "id": "1823c257-05c7-4040-9ff3-7e2af7f6b3b6",
   "metadata": {},
   "outputs": [],
   "source": []
  },
  {
   "cell_type": "code",
   "execution_count": null,
   "id": "1395a178-973b-4e09-aace-64866c23a900",
   "metadata": {},
   "outputs": [],
   "source": []
  },
  {
   "cell_type": "code",
   "execution_count": null,
   "id": "ae75294d-03a3-4508-bb38-e5b9d5d736ed",
   "metadata": {},
   "outputs": [],
   "source": []
  },
  {
   "cell_type": "code",
   "execution_count": null,
   "id": "b498cb38-75ea-4af5-99a8-4001d090fb43",
   "metadata": {},
   "outputs": [],
   "source": []
  },
  {
   "cell_type": "code",
   "execution_count": null,
   "id": "41e46a97-cdeb-42b1-8b0c-0ae2097e3f5f",
   "metadata": {},
   "outputs": [],
   "source": []
  },
  {
   "cell_type": "code",
   "execution_count": null,
   "id": "532c4b23-5a57-4253-92f8-150d0c026de1",
   "metadata": {},
   "outputs": [],
   "source": []
  },
  {
   "cell_type": "code",
   "execution_count": null,
   "id": "05ba3f18-adef-4829-ae68-ddb566748a02",
   "metadata": {},
   "outputs": [],
   "source": []
  },
  {
   "cell_type": "code",
   "execution_count": null,
   "id": "f6cb458c-689a-459c-b5d8-ba0d90541d7d",
   "metadata": {},
   "outputs": [],
   "source": []
  },
  {
   "cell_type": "code",
   "execution_count": null,
   "id": "dffcb16b-a3e3-47ca-965b-39a08ab699af",
   "metadata": {},
   "outputs": [],
   "source": []
  },
  {
   "cell_type": "code",
   "execution_count": null,
   "id": "f4580ea2-ce15-40bd-ae66-4bbb8bca4fc6",
   "metadata": {},
   "outputs": [],
   "source": []
  },
  {
   "cell_type": "code",
   "execution_count": null,
   "id": "b8057a3f-09e8-42af-99aa-63c7ced9c2db",
   "metadata": {},
   "outputs": [],
   "source": []
  },
  {
   "cell_type": "code",
   "execution_count": null,
   "id": "a309501d-d27c-4c3a-9c94-704c9e3ac25e",
   "metadata": {},
   "outputs": [],
   "source": [
    "client"
   ]
  },
  {
   "cell_type": "code",
   "execution_count": 54,
   "id": "d32a61d8-6607-46de-b677-4da42c6939d0",
   "metadata": {},
   "outputs": [],
   "source": [
    "custom_model_validation = CustomModelLLMValidation.create(prompt_column_name=\"promptText\",\n",
    "    target_column_name=\"completion\",\n",
    "    deployment_id=\"66267429984982ee4438bbf2\")"
   ]
  },
  {
   "cell_type": "code",
   "execution_count": 56,
   "id": "c8eb27c3-eda3-4f3d-93e0-e3275e8bebf5",
   "metadata": {},
   "outputs": [
    {
     "data": {
      "text/plain": [
       "CustomModelLLMValidation(id=662a77d3c5e69aa73562ecda)"
      ]
     },
     "execution_count": 56,
     "metadata": {},
     "output_type": "execute_result"
    }
   ],
   "source": [
    "custom_model_validation"
   ]
  },
  {
   "cell_type": "code",
   "execution_count": 66,
   "id": "6d27990e-6f43-4056-8662-115bbc33c35e",
   "metadata": {},
   "outputs": [],
   "source": [
    "from datarobot.models.genai.llm import LLMSettingDefinition\n",
    "from datarobot.models.genai.llm_blueprint import LLMBlueprint, LLMDefinition"
   ]
  },
  {
   "cell_type": "code",
   "execution_count": 62,
   "id": "c8728243-231d-47a6-baa8-aa2fff075b7d",
   "metadata": {},
   "outputs": [],
   "source": [
    "custom_llm = [llm_definition for llm_definition in LLMDefinition.list(as_dict=False) if llm_definition.id == \"custom-model\"][0]"
   ]
  },
  {
   "cell_type": "code",
   "execution_count": 68,
   "id": "f4c1163c-694f-4769-890a-8f6ff5a64be6",
   "metadata": {},
   "outputs": [
    {
     "ename": "TypeError",
     "evalue": "LLMSettingDefinition.__init__() missing 4 required positional arguments: 'name', 'description', 'type', and 'is_nullable'",
     "output_type": "error",
     "traceback": [
      "\u001b[0;31m---------------------------------------------------------------------------\u001b[0m",
      "\u001b[0;31mTypeError\u001b[0m                                 Traceback (most recent call last)",
      "Cell \u001b[0;32mIn[68], line 1\u001b[0m\n\u001b[0;32m----> 1\u001b[0m \u001b[43mLLMSettingDefinition\u001b[49m\u001b[43m(\u001b[49m\u001b[38;5;28;43mid\u001b[39;49m\u001b[38;5;241;43m=\u001b[39;49m\u001b[38;5;124;43m\"\u001b[39;49m\u001b[38;5;124;43m662a77d3c5e69aa73562ecda\u001b[39;49m\u001b[38;5;124;43m\"\u001b[39;49m\u001b[43m)\u001b[49m\n",
      "\u001b[0;31mTypeError\u001b[0m: LLMSettingDefinition.__init__() missing 4 required positional arguments: 'name', 'description', 'type', and 'is_nullable'"
     ]
    }
   ],
   "source": [
    "LLMSettingDefinition(id=\"662a77d3c5e69aa73562ecda\")"
   ]
  },
  {
   "cell_type": "code",
   "execution_count": 71,
   "id": "216e2db8-2557-4db7-97cd-4cf98c0a9d66",
   "metadata": {},
   "outputs": [],
   "source": []
  },
  {
   "cell_type": "code",
   "execution_count": 72,
   "id": "d5df67e6-a430-47ea-bc4e-4e44318737c0",
   "metadata": {},
   "outputs": [
    {
     "ename": "SyntaxError",
     "evalue": "positional argument follows keyword argument (3654189757.py, line 7)",
     "output_type": "error",
     "traceback": [
      "\u001b[0;36m  Cell \u001b[0;32mIn[72], line 7\u001b[0;36m\u001b[0m\n\u001b[0;31m    ...)\u001b[0m\n\u001b[0m       ^\u001b[0m\n\u001b[0;31mSyntaxError\u001b[0m\u001b[0;31m:\u001b[0m positional argument follows keyword argument\n"
     ]
    }
   ],
   "source": [
    "LLMBlueprint.create(\n",
    "    llm=custom_llm,\n",
    "    llm_settings = {\n",
    "    \"system_prompt\": \"You are a pytest asset\", \n",
    "    \"validation_id\": validation_id\n",
    "},\n",
    "    ...)"
   ]
  },
  {
   "cell_type": "code",
   "execution_count": null,
   "id": "d0f293cd-c98d-49fe-9f7c-8ca84642a6ce",
   "metadata": {},
   "outputs": [],
   "source": []
  }
 ],
 "metadata": {
  "kernelspec": {
   "display_name": "Python 3 (ipykernel)",
   "language": "python",
   "name": "python3"
  },
  "language_info": {
   "codemirror_mode": {
    "name": "ipython",
    "version": 3
   },
   "file_extension": ".py",
   "mimetype": "text/x-python",
   "name": "python",
   "nbconvert_exporter": "python",
   "pygments_lexer": "ipython3",
   "version": "3.10.12"
  }
 },
 "nbformat": 4,
 "nbformat_minor": 5
}
